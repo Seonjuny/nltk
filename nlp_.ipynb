{
 "cells": [
  {
   "cell_type": "markdown",
   "metadata": {},
   "source": [
    "## 자연어 처리 과제입니다\n",
    "\n",
    "파일명 제출 : nlp_{이름}.ipynb  \n",
    "분석 대상 데이터 : 평점 test 데이터\n",
    "\n",
    "평가 관점\n",
    "1. 코드를 작성하여 error 없이 진행해야 함\n",
    "2. 각종 모델을 비교하거나 선택한 이유 등을 작성\n",
    "3. train : test 비율은 7:3으로 함\n",
    "4. 최종 평가에서 train 데이터에 대한 정확도 90 이상, test 데이터에 대한 정확도는 85 이상을 목표로 함\n",
    "5. 모델 평가에서 고정된 결과가 나오도록 하세요"
   ]
  },
  {
   "cell_type": "markdown",
   "metadata": {},
   "source": [
    "Part 1 . 분석 환경에 대한 정보를 보여주세요\n",
    "\n",
    "1. python 버전 \n",
    "2. 주용 사용 패키지 버전 정보 \n"
   ]
  },
  {
   "cell_type": "code",
   "execution_count": 1,
   "metadata": {},
   "outputs": [],
   "source": [
    "import pandas as pd\n",
    "import numpy as np\n",
    "import tensorflow as tf\n",
    "import matplotlib.pyplot as plt\n",
    "import seaborn as sns\n",
    "\n",
    "from collections import Counter\n",
    "from sklearn.model_selection import train_test_split\n",
    "from konlpy.tag import Komoran\n",
    "from tqdm import tqdm\n",
    "import transformers "
   ]
  },
  {
   "cell_type": "code",
   "execution_count": 2,
   "metadata": {},
   "outputs": [
    {
     "name": "stdout",
     "output_type": "stream",
     "text": [
      "tensorflow version: 2.14.0\n",
      "transformers version: 4.34.0\n"
     ]
    }
   ],
   "source": [
    "print(f\"tensorflow version: {tf.__version__}\")\n",
    "print(f\"transformers version: {transformers.__version__}\")"
   ]
  },
  {
   "cell_type": "markdown",
   "metadata": {},
   "source": [
    "Part 2. 분석 데이터를 로드하세요\n",
    "\n",
    "1. 판다스로 데이터를 read 하세요"
   ]
  },
  {
   "cell_type": "code",
   "execution_count": 3,
   "metadata": {},
   "outputs": [],
   "source": [
    "train_df = pd.read_csv('./data/ratings_train.csv')\n",
    "test_df = pd.read_csv('./data/ratings_test.csv')"
   ]
  },
  {
   "cell_type": "markdown",
   "metadata": {},
   "source": [
    "Part 3. 텍스트 데이터를 EDA하세요\n",
    "\n",
    "1. 통계적으로 텍스트를 확인해 보세요\n",
    "2. 시각화 해보세요\n",
    "3. 불용어(stop words)를 찾아보세요\n",
    "4. 기타 여러 방법으로 EDA를 해보세요"
   ]
  },
  {
   "cell_type": "markdown",
   "metadata": {},
   "source": [
    "Part 4. 텍스트 데이터를 임베딩 하세요\n",
    "\n",
    "1. 텍스트 토크나이즈를 해보세요\n",
    "2. 텍스트를 벡터화 하세요"
   ]
  },
  {
   "cell_type": "code",
   "execution_count": 4,
   "metadata": {},
   "outputs": [
    {
     "name": "stdout",
     "output_type": "stream",
     "text": [
      "train_df shape => (150000, 3)\n",
      " test_df shape => (50000, 3)\n"
     ]
    }
   ],
   "source": [
    "print(f\"train_df shape => {train_df.shape}\\n test_df shape => {test_df.shape}\")"
   ]
  },
  {
   "cell_type": "code",
   "execution_count": 5,
   "metadata": {},
   "outputs": [
    {
     "data": {
      "image/png": "[encoded data removed]",
      "text/plain": [
       "<Figure size 640x480 with 1 Axes>"
      ]
     },
     "metadata": {},
     "output_type": "display_data"
    }
   ],
   "source": [
    "# 훈련 데이터의 라벨 수 확인\n",
    "\n",
    "sns.set_theme(style='darkgrid')\n",
    "ax = sns.countplot(x = 'label', data = train_df)"
   ]
  },
  {
   "cell_type": "code",
   "execution_count": 6,
   "metadata": {},
   "outputs": [
    {
     "data": {
      "image/png": "[encoded data removed]",
      "text/plain": [
       "<Figure size 500x500 with 1 Axes>"
      ]
     },
     "metadata": {},
     "output_type": "display_data"
    }
   ],
   "source": [
    "# 훈련데이터 라벨값 비율 확인\n",
    "\n",
    "labels, frequencies = np.unique(train_df.label.values, return_counts=True)\n",
    "plt.figure(figsize=(5,5))\n",
    "plt.pie(frequencies, labels = labels, autopct= '%1.1f%%')\n",
    "plt.show()"
   ]
  },
  {
   "cell_type": "code",
   "execution_count": 7,
   "metadata": {},
   "outputs": [
    {
     "name": "stdout",
     "output_type": "stream",
     "text": [
      "id          0\n",
      "document    5\n",
      "label       0\n",
      "dtype: int64\n",
      "id          0\n",
      "document    3\n",
      "label       0\n",
      "dtype: int64\n"
     ]
    }
   ],
   "source": [
    "# 결측 값 확인\n",
    "print(train_df.isnull().sum())\n",
    "\n",
    "print(test_df.isnull().sum())"
   ]
  },
  {
   "cell_type": "code",
   "execution_count": 8,
   "metadata": {},
   "outputs": [
    {
     "name": "stdout",
     "output_type": "stream",
     "text": [
      "train_df shape => (146182, 3) \n",
      "test_df shape => (49157, 3)\n"
     ]
    }
   ],
   "source": [
    "tokenizer = Komoran() # 한국어 토크나이저를 활용\n",
    "\n",
    "def preprocess(train_df, test_df):\n",
    "    train_df.drop_duplicates(subset=['document'], inplace=True) # 중복값 제거\n",
    "    test_df.drop_duplicates(subset=['document'], inplace=True) # 중복값 제거\n",
    "    train_df = train_df.dropna() # 결측시 제거\n",
    "    test_df = test_df.dropna() # 결측시 제거\n",
    "    print(f\"train_df shape => {train_df.shape} \\ntest_df shape => {test_df.shape}\")\n",
    "    \n",
    "    train_df_tokenized = [[token+\"/\"+POS for token, POS in tokenizer.pos(doc_)] for doc_ in train_df['document']] # 토큰화\n",
    "    test_df_tokenized = [[token+\"/\"+POS for token, POS in tokenizer.pos(doc_)] for doc_ in test_df['document']] # 토큰화\n",
    "    \n",
    "    exclusion_tags = ['JKS', 'JKC', 'JKG', 'JKO', 'JKB', 'JKV', 'JKQ', 'JX', 'JC',\n",
    "                      'SF', 'SP', 'SS', 'SE', 'SO', 'EF', 'EP', 'EC', 'ETN', 'ETM',\n",
    "                      'XSN', 'XSV', 'XSA'] # 불용어 제거(조사, 구두점, 접미사 종류)\n",
    "    \n",
    "    f = lambda x: x in exclusion_tags\n",
    "    \n",
    "    X_train = []\n",
    "    for i in range(len(train_df_tokenized)):\n",
    "        temp = []\n",
    "        for j in range(len(train_df_tokenized[i])):\n",
    "            if f(train_df_tokenized[i][j].split('/')[1]) is False:\n",
    "                temp.append(train_df_tokenized[i][j].split('/')[0])\n",
    "        X_train.append(temp)\n",
    "    \n",
    "    X_test = []\n",
    "    for i in range(len(test_df_tokenized)):\n",
    "        temp = []\n",
    "        for j in range(len(test_df_tokenized[i])):\n",
    "            if f(test_df_tokenized[i][j].split('/')[1]) is False:\n",
    "                temp.append(test_df_tokenized[i][j].split('/')[0])\n",
    "        X_test.append(temp)\n",
    "\n",
    "    words = np.concatenate(X_train).tolist()\n",
    "    counter = Counter(words)\n",
    "    counter = counter.most_common(30000-4) # 빈도수를 기준으로 30000개 토큰 구축\n",
    "    vocab = ['<PAD>', '<BOS>', '<UNK>', '<UNUSED>'] + [key for key, _ in counter]\n",
    "    word_to_index = {word:index for index, word in enumerate(vocab)}\n",
    "    \n",
    "    # 인덱스화\n",
    "\n",
    "    def wordlist_to_indexlist(wordlist):\n",
    "        return [word_to_index[word] if word in word_to_index else word_to_index['<UNK>'] for word in wordlist]\n",
    "    \n",
    "    X_train = list(map(wordlist_to_indexlist, X_train))\n",
    "    X_test = list(map(wordlist_to_indexlist, X_test))\n",
    "    \n",
    "    return X_train, np.array(list(train_df['label'])), X_test, np.array(list(test_df['label'])), word_to_index\n",
    "X_train, y_train, X_test, y_test, word_to_index = preprocess(train_df, test_df)\n",
    "index_to_word = {index:word for word, index in word_to_index.items()}"
   ]
  },
  {
   "cell_type": "code",
   "execution_count": 9,
   "metadata": {},
   "outputs": [
    {
     "name": "stdout",
     "output_type": "stream",
     "text": [
      "토큰 길이 평균: 10.763011994532581\n",
      "토큰 길이 최대: 140\n",
      "토큰 길이 표준편차: 8.886926944778248\n",
      "설정 최대 길이: 28\n",
      "전체 문장의 0.9356554502685076%가 설정값인 28에 포함됩니다.\n"
     ]
    }
   ],
   "source": [
    "all_data = list(X_train)+list(X_test)\n",
    "\n",
    "num_tokens = [len(tokens) for tokens in all_data]\n",
    "num_tokens = np.array(num_tokens)\n",
    "\n",
    "# 평균값, 최댓값, 표준편차\n",
    "print(f\"토큰 길이 평균: {np.mean(num_tokens)}\")\n",
    "print(f\"토큰 길이 최대: {np.max(num_tokens)}\")\n",
    "print(f\"토큰 길이 표준편차: {np.std(num_tokens)}\")\n",
    "\n",
    "max_tokens = np.mean(num_tokens) + 2 * np.std(num_tokens)\n",
    "maxlen = int(max_tokens)\n",
    "print(f'설정 최대 길이: {maxlen}')\n",
    "print(f'전체 문장의 {np.sum(num_tokens < max_tokens) / len(num_tokens)}%가 설정값인 {maxlen}에 포함됩니다.')"
   ]
  },
  {
   "cell_type": "code",
   "execution_count": 10,
   "metadata": {},
   "outputs": [],
   "source": [
    "# pad_sequences를 통해 설정한 길이로 패딩을 진행하였고 계산한 값이 아닌 임의의 값(70)을 지정하고 진행\n",
    "\n",
    "X_train = tf.keras.preprocessing.sequence.pad_sequences(X_train,\n",
    "                                                       padding='pre',\n",
    "                                                       value=word_to_index[\"<PAD>\"],\n",
    "                                                       maxlen=70)\n",
    "\n",
    "X_test = tf.keras.preprocessing.sequence.pad_sequences(X_test,\n",
    "                                                       padding='pre',\n",
    "                                                       value=word_to_index[\"<PAD>\"],\n",
    "                                                       maxlen=70)"
   ]
  },
  {
   "cell_type": "markdown",
   "metadata": {},
   "source": [
    "Part 5. 분류 모델을 훈련하고 적용해 보세요"
   ]
  },
  {
   "cell_type": "code",
   "execution_count": 11,
   "metadata": {},
   "outputs": [
    {
     "name": "stdout",
     "output_type": "stream",
     "text": [
      "Model: \"sequential\"\n",
      "_________________________________________________________________\n",
      " Layer (type)                Output Shape              Param #   \n",
      "=================================================================\n",
      " embedding (Embedding)       (None, None, 16)          480000    \n",
      "                                                                 \n",
      " lstm (LSTM)                 (None, 8)                 800       \n",
      "                                                                 \n",
      " dense (Dense)               (None, 1)                 9         \n",
      "                                                                 \n",
      "=================================================================\n",
      "Total params: 480809 (1.83 MB)\n",
      "Trainable params: 480809 (1.83 MB)\n",
      "Non-trainable params: 0 (0.00 Byte)\n",
      "_________________________________________________________________\n"
     ]
    }
   ],
   "source": [
    "# 모델링LSTM\n",
    "# 0과 1의 이진 분류이기 때문에 sigmoid를 활성화 함수로 사용했으며, binart_crossentropy를 사용\n",
    "# 단어 벡터차원(word_vector_dim)과 LSMC layer의 units는 임의로 조정이 가능한 하이퍼파라미터 값\n",
    "\n",
    "vocab_size = 30000\n",
    "word_vector_dim = 16\n",
    "\n",
    "model = tf.keras.Sequential()\n",
    "model.add(tf.keras.layers.Embedding(vocab_size, word_vector_dim, input_shape=(None,)))\n",
    "model.add(tf.keras.layers.LSTM(units=8))\n",
    "model.add(tf.keras.layers.Dense(1, activation='sigmoid'))\n",
    "\n",
    "model.compile(optimizer='adam', loss='binary_crossentropy', metrics=['accuracy'])\n",
    "model.summary()"
   ]
  },
  {
   "cell_type": "code",
   "execution_count": 12,
   "metadata": {},
   "outputs": [],
   "source": [
    "# 사이킷런의 train_test_split을 활용해 일부 검증 데이터셋을 만들었습니다.\n",
    "\n",
    "X_train, X_val, y_train, y_val = train_test_split(X_train, y_train, test_size=0.3, shuffle=True,\n",
    "                                                  stratify=y_train, random_state=777)"
   ]
  },
  {
   "cell_type": "code",
   "execution_count": 17,
   "metadata": {},
   "outputs": [
    {
     "name": "stdout",
     "output_type": "stream",
     "text": [
      "Epoch 1/10\n",
      "200/200 [==============================] - 5s 24ms/step - loss: 0.2350 - accuracy: 0.9083 - val_loss: 0.4349 - val_accuracy: 0.8243\n",
      "Epoch 2/10\n",
      "200/200 [==============================] - 5s 24ms/step - loss: 0.2267 - accuracy: 0.9126 - val_loss: 0.4452 - val_accuracy: 0.8223\n",
      "Epoch 3/10\n",
      "200/200 [==============================] - 5s 24ms/step - loss: 0.2194 - accuracy: 0.9158 - val_loss: 0.4588 - val_accuracy: 0.8209\n",
      "Epoch 4/10\n",
      "200/200 [==============================] - 5s 24ms/step - loss: 0.2121 - accuracy: 0.9189 - val_loss: 0.4682 - val_accuracy: 0.8185\n",
      "Epoch 5/10\n",
      "200/200 [==============================] - 5s 24ms/step - loss: 0.2057 - accuracy: 0.9213 - val_loss: 0.4781 - val_accuracy: 0.8177\n",
      "Epoch 6/10\n",
      "200/200 [==============================] - 5s 24ms/step - loss: 0.1987 - accuracy: 0.9236 - val_loss: 0.4922 - val_accuracy: 0.8165\n",
      "Epoch 7/10\n",
      "200/200 [==============================] - 5s 24ms/step - loss: 0.1921 - accuracy: 0.9263 - val_loss: 0.5015 - val_accuracy: 0.8161\n",
      "Epoch 8/10\n",
      "200/200 [==============================] - 5s 24ms/step - loss: 0.1865 - accuracy: 0.9281 - val_loss: 0.5165 - val_accuracy: 0.8141\n",
      "Epoch 9/10\n",
      "200/200 [==============================] - 5s 24ms/step - loss: 0.1805 - accuracy: 0.9306 - val_loss: 0.5308 - val_accuracy: 0.8136\n",
      "Epoch 10/10\n",
      "200/200 [==============================] - 5s 24ms/step - loss: 0.1747 - accuracy: 0.9324 - val_loss: 0.5453 - val_accuracy: 0.8089\n"
     ]
    }
   ],
   "source": [
    "# 모델 훈련 과정\n",
    "\n",
    "history = model.fit(X_train, y_train, epochs=10, batch_size=512,\n",
    "                    validation_data=(X_val, y_val), verbose=1)"
   ]
  },
  {
   "cell_type": "code",
   "execution_count": 18,
   "metadata": {},
   "outputs": [
    {
     "name": "stdout",
     "output_type": "stream",
     "text": [
      "1537/1537 [==============================] - 4s 2ms/step - loss: 0.5408 - accuracy: 0.8109\n",
      "[0.5407754182815552, 0.8108713030815125]\n"
     ]
    }
   ],
   "source": [
    "# test 데이터에 대해 학습한 모델로 평가 진행\n",
    "\n",
    "predict = model.evaluate(X_test, y_test, verbose=1)\n",
    "print(predict)"
   ]
  },
  {
   "cell_type": "markdown",
   "metadata": {},
   "source": [
    "Part 6. 모델을 평가하세요"
   ]
  },
  {
   "cell_type": "code",
   "execution_count": 19,
   "metadata": {},
   "outputs": [
    {
     "name": "stdout",
     "output_type": "stream",
     "text": [
      "dict_keys(['loss', 'accuracy', 'val_loss', 'val_accuracy'])\n"
     ]
    }
   ],
   "source": [
    "history_dict = history.history\n",
    "print(history_dict.keys())"
   ]
  },
  {
   "cell_type": "code",
   "execution_count": 20,
   "metadata": {},
   "outputs": [
    {
     "data": {
      "image/png": "[encoded data removed]",
      "text/plain": [
       "<Figure size 640x480 with 1 Axes>"
      ]
     },
     "metadata": {},
     "output_type": "display_data"
    }
   ],
   "source": [
    "# 모델 훈련 중 각 에포크에 대한 train loss 값과 validation loss 값의 변화를 시각화한 코드\n",
    "\n",
    "acc = history_dict['accuracy']\n",
    "val_acc = history_dict['val_accuracy']\n",
    "loss = history_dict['loss']\n",
    "val_loss = history_dict['val_loss']\n",
    "\n",
    "epochs = range(1, len(acc) + 1)\n",
    "\n",
    "plt.plot(epochs, loss, 'r', label='Training loss')\n",
    "plt.plot(epochs, val_loss, 'b', label='Validation loss')\n",
    "plt.title('Training and validation loss')\n",
    "plt.xlabel('Epochs')\n",
    "plt.ylabel('Loss')\n",
    "plt.legend()\n",
    "\n",
    "plt.show()"
   ]
  }
 ],
 "metadata": {
  "kernelspec": {
   "display_name": "Python 3",
   "language": "python",
   "name": "python3"
  },
  "language_info": {
   "codemirror_mode": {
    "name": "ipython",
    "version": 3
   },
   "file_extension": ".py",
   "mimetype": "text/x-python",
   "name": "python",
   "nbconvert_exporter": "python",
   "pygments_lexer": "ipython3",
   "version": "3.10.9"
  },
  "orig_nbformat": 4
 },
 "nbformat": 4,
 "nbformat_minor": 2
}
